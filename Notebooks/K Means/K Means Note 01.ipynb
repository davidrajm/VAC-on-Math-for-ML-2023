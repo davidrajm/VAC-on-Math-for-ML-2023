{
 "cells": [
  {
   "cell_type": "markdown",
   "metadata": {},
   "source": [
    "# Kmeans - Note 01"
   ]
  },
  {
   "cell_type": "markdown",
   "metadata": {
    "id": "wF5fKIpsNebO"
   },
   "source": [
    "#### 1. Euclidean Distance\n",
    "Euclidean Distance represents the **shortest distance between two points.**\n",
    "\n",
    "$$ \\sqrt{(x_2-x_1)^2 + (y_2-y_1)^2}$$\n",
    "\n",
    "Most machine learning algorithms including **K-Means use this distance metric to measure the similarity between observations.**"
   ]
  },
  {
   "cell_type": "code",
   "execution_count": 1,
   "metadata": {
    "id": "bSGqH1KKMp34"
   },
   "outputs": [],
   "source": [
    "from scipy.spatial import distance # To calculate distances"
   ]
  },
  {
   "cell_type": "code",
   "execution_count": 2,
   "metadata": {
    "id": "6kn0KZCDP1l5"
   },
   "outputs": [],
   "source": [
    "point_1 = (1, 2, 3)\n",
    "point_2 = (4, 5, 6)"
   ]
  },
  {
   "cell_type": "code",
   "execution_count": 4,
   "metadata": {
    "colab": {
     "base_uri": "https://localhost:8080/"
    },
    "id": "gGDpa_qadV3r",
    "outputId": "ccc01d51-4972-4449-fff0-4fad60d02c2c"
   },
   "outputs": [
    {
     "data": {
      "text/plain": [
       "5.196152422706632"
      ]
     },
     "execution_count": 4,
     "metadata": {},
     "output_type": "execute_result"
    }
   ],
   "source": [
    "#computing the euclidean distance\n",
    "euclidean_distance = distance.euclidean(point_1, point_2)\n",
    "euclidean_distance"
   ]
  },
  {
   "cell_type": "markdown",
   "metadata": {
    "id": "ZWkrHAHUna41"
   },
   "source": [
    "#### 2. Manhattan Distance\n",
    "\n",
    "##### Manhattan Distance is the sum of absolute differences between points across all the dimensions."
   ]
  },
  {
   "cell_type": "code",
   "execution_count": 7,
   "metadata": {
    "id": "fbQQMjfcoARI"
   },
   "outputs": [
    {
     "name": "stdout",
     "output_type": "stream",
     "text": [
      "First Data Point: (1, 1)\n",
      "Second Data Point: (5, 4)\n"
     ]
    }
   ],
   "source": [
    "# Manhattan Distance vs Euclidean Distance\n",
    "point_1 = (1, 1)\n",
    "point_2 = (5, 4)\n",
    "\n",
    "print('First Data Point:',point_1)\n",
    "print('Second Data Point:', point_2)"
   ]
  },
  {
   "cell_type": "code",
   "execution_count": 8,
   "metadata": {
    "colab": {
     "base_uri": "https://localhost:8080/"
    },
    "id": "BMqOU9DxeAz2",
    "outputId": "49ddc9b1-deca-4305-df36-f6bd738baeb6"
   },
   "outputs": [
    {
     "name": "stdout",
     "output_type": "stream",
     "text": [
      "\n",
      "Euclidean Distance b/w (1, 1) and (5, 4) is:  5.0\n",
      "Manhattan Distance b/w (1, 1) and (5, 4) is:  7\n"
     ]
    }
   ],
   "source": [
    "#computing the euclidean distance\n",
    "euclidean_distance = distance.euclidean(point_1, point_2)\n",
    "print('\\nEuclidean Distance b/w', point_1, 'and', point_2, 'is: ', euclidean_distance)\n",
    "\n",
    "# computing the manhattan distance\n",
    "manhattan_distance = distance.cityblock(point_1, point_2)\n",
    "print('Manhattan Distance b/w', point_1, 'and', point_2, 'is: ', manhattan_distance)"
   ]
  },
  {
   "cell_type": "code",
   "execution_count": null,
   "metadata": {
    "id": "XS8xYb0mixvI"
   },
   "outputs": [],
   "source": []
  },
  {
   "cell_type": "markdown",
   "metadata": {
    "id": "I-sqH-Kji861"
   },
   "source": [
    "#### 3.Minkowski Distance*"
   ]
  },
  {
   "cell_type": "code",
   "execution_count": 9,
   "metadata": {
    "colab": {
     "base_uri": "https://localhost:8080/"
    },
    "id": "L8bNZuTMyZeF",
    "outputId": "5a9a968f-9212-4a58-9f51-cff9b20cd0c8"
   },
   "outputs": [
    {
     "name": "stdout",
     "output_type": "stream",
     "text": [
      "First Data Points : (1, 1)\n",
      "Second Data Points : (5, 4)\n"
     ]
    }
   ],
   "source": [
    "point_1 = (1, 1)\n",
    "point_2 = (5, 4)\n",
    "\n",
    "print('First Data Points :',point_1)\n",
    "print('Second Data Points :', point_2)"
   ]
  },
  {
   "cell_type": "code",
   "execution_count": 10,
   "metadata": {
    "colab": {
     "base_uri": "https://localhost:8080/"
    },
    "id": "OaNbF6RMjEWt",
    "outputId": "869f82c4-5f70-41c5-a34d-273d801d4c34"
   },
   "outputs": [
    {
     "name": "stdout",
     "output_type": "stream",
     "text": [
      "\n",
      "Euclidean Distance b/w (1, 1) and (5, 4) is:  5.0\n",
      "\n",
      "Manhattan Distance b/w (1, 1) and (5, 4) is:  7\n",
      "\n",
      "Minkowski Distance (p=1, Manhattan) b/w (1, 1) and (5, 4) is:  7.0\n"
     ]
    }
   ],
   "source": [
    "#computing the euclidean distance\n",
    "euclidean_distance = distance.euclidean(point_1, point_2)\n",
    "print('\\nEuclidean Distance b/w', point_1, 'and', point_2, 'is: ', euclidean_distance)\n",
    "\n",
    "# computing the manhattan distance\n",
    "manhattan_distance = distance.cityblock(point_1, point_2)\n",
    "print('\\nManhattan Distance b/w', point_1, 'and', point_2, 'is: ', manhattan_distance)\n",
    "\n",
    "# computing the minkowski distance\n",
    "minkowski_distance = distance.minkowski(point_1, point_2, p=1)\n",
    "print('\\nMinkowski Distance (p=1, Manhattan) b/w', point_1, 'and', point_2, 'is: ', minkowski_distance)"
   ]
  },
  {
   "cell_type": "code",
   "execution_count": 11,
   "metadata": {
    "colab": {
     "base_uri": "https://localhost:8080/"
    },
    "id": "ajxPi5E3jQW_",
    "outputId": "8d4cd5d7-8f0a-46a7-cfc8-1fd14bde58c3"
   },
   "outputs": [
    {
     "name": "stdout",
     "output_type": "stream",
     "text": [
      "\n",
      "Minkowski Distance (p=2, Euclidean) b/w (1, 1) and (5, 4) is:  5.0\n",
      "\n",
      "Minkowski Distance (p=3) b/w (1, 1) and (5, 4) is:  4.497941445275415\n"
     ]
    }
   ],
   "source": [
    "minkowski_distance = distance.minkowski(point_1, point_2, p=2)\n",
    "print('\\nMinkowski Distance (p=2, Euclidean) b/w', point_1, 'and', point_2, 'is: ', minkowski_distance)\n",
    "\n",
    "minkowski_distance = distance.minkowski(point_1, point_2, p=3)\n",
    "print('\\nMinkowski Distance (p=3) b/w', point_1, 'and', point_2, 'is: ', minkowski_distance)"
   ]
  },
  {
   "cell_type": "markdown",
   "metadata": {
    "id": "aOeTLnhw2GWO"
   },
   "source": [
    "#### 3. Hamming Distance\n",
    "- Hamming Distance measures the **similarity between two strings of the same length** \n",
    "\n",
    "\n"
   ]
  },
  {
   "cell_type": "code",
   "execution_count": 12,
   "metadata": {
    "colab": {
     "base_uri": "https://localhost:8080/"
    },
    "id": "Mjg8Vhnez1fO",
    "outputId": "ed643494-ad0d-47c4-e39a-57398ae46832"
   },
   "outputs": [
    {
     "name": "stdout",
     "output_type": "stream",
     "text": [
      "Hamming Distance b/w euclidean and manhattan is:  7.0\n"
     ]
    }
   ],
   "source": [
    "# Hamming Distance\n",
    "# defining two strings\n",
    "string_1 = 'euclidean'\n",
    "string_2 = 'manhattan'\n",
    "\n",
    "# computing the hamming distance\n",
    "hamming_distance = distance.hamming(list(string_1), list(string_2))*len(string_1)\n",
    "print('Hamming Distance b/w', string_1, 'and', string_2, 'is: ', hamming_distance)"
   ]
  }
 ],
 "metadata": {
  "colab": {
   "provenance": []
  },
  "kernelspec": {
   "display_name": "Python 3",
   "language": "python",
   "name": "python3"
  },
  "language_info": {
   "codemirror_mode": {
    "name": "ipython",
    "version": 3
   },
   "file_extension": ".py",
   "mimetype": "text/x-python",
   "name": "python",
   "nbconvert_exporter": "python",
   "pygments_lexer": "ipython3",
   "version": "3.7.3"
  }
 },
 "nbformat": 4,
 "nbformat_minor": 4
}
