{
 "cells": [
  {
   "cell_type": "markdown",
   "id": "8fa68258-542a-47f9-a9d2-f5728c3afd4f",
   "metadata": {},
   "source": [
    "# Matrices"
   ]
  },
  {
   "cell_type": "code",
   "execution_count": 55,
   "id": "f5e6217b-8942-476e-91a7-2521bf30c60e",
   "metadata": {},
   "outputs": [],
   "source": [
    "import numpy as np\n",
    "\n",
    "A = np.array([[1, 4], [1, 6]])"
   ]
  },
  {
   "cell_type": "code",
   "execution_count": 56,
   "id": "e18b021f-7347-4255-a9f5-0133ecebf77d",
   "metadata": {},
   "outputs": [
    {
     "data": {
      "text/plain": [
       "(2, 2)"
      ]
     },
     "execution_count": 56,
     "metadata": {},
     "output_type": "execute_result"
    }
   ],
   "source": [
    "A.shape # gives the dimension of the matrix"
   ]
  },
  {
   "cell_type": "code",
   "execution_count": 57,
   "id": "4531d163-0f68-4ecb-9ce9-2090853722c9",
   "metadata": {},
   "outputs": [
    {
     "data": {
      "text/plain": [
       "array([[1, 1],\n",
       "       [4, 6]])"
      ]
     },
     "execution_count": 57,
     "metadata": {},
     "output_type": "execute_result"
    }
   ],
   "source": [
    "A.transpose() # or C.T"
   ]
  },
  {
   "cell_type": "code",
   "execution_count": 58,
   "id": "a59a1081-c2a1-493d-b2b1-7bf3c7f9541a",
   "metadata": {},
   "outputs": [
    {
     "data": {
      "text/plain": [
       "7"
      ]
     },
     "execution_count": 58,
     "metadata": {},
     "output_type": "execute_result"
    }
   ],
   "source": [
    "A.trace()"
   ]
  },
  {
   "cell_type": "code",
   "execution_count": 59,
   "id": "f4ef142d-2ded-43f8-b675-dde67ae6b078",
   "metadata": {},
   "outputs": [
    {
     "data": {
      "text/plain": [
       "2.0"
      ]
     },
     "execution_count": 59,
     "metadata": {},
     "output_type": "execute_result"
    }
   ],
   "source": [
    "np.linalg.det(A)"
   ]
  },
  {
   "cell_type": "code",
   "execution_count": 60,
   "id": "155300dc-6b8c-4361-a1b2-81d36a378e79",
   "metadata": {},
   "outputs": [
    {
     "data": {
      "text/plain": [
       "array([[ 3. , -2. ],\n",
       "       [-0.5,  0.5]])"
      ]
     },
     "execution_count": 60,
     "metadata": {},
     "output_type": "execute_result"
    }
   ],
   "source": [
    "np.linalg.inv(A)"
   ]
  },
  {
   "cell_type": "code",
   "execution_count": 24,
   "id": "151ff797-3d72-4316-a41c-2c8003d8dc21",
   "metadata": {},
   "outputs": [
    {
     "data": {
      "text/plain": [
       "array([ 2, -6])"
      ]
     },
     "execution_count": 24,
     "metadata": {},
     "output_type": "execute_result"
    }
   ],
   "source": [
    "A.diagonal()"
   ]
  },
  {
   "cell_type": "code",
   "execution_count": 33,
   "id": "aaaeb6ee-5e23-4cfc-8965-f4202d1475e7",
   "metadata": {},
   "outputs": [
    {
     "data": {
      "text/plain": [
       "array([[11,  1],\n",
       "       [ 8,  0]])"
      ]
     },
     "execution_count": 33,
     "metadata": {},
     "output_type": "execute_result"
    }
   ],
   "source": [
    "B = np.array([[9, -3], [3, 6]])\n",
    "C = A + B      # element wise addition\n",
    "C"
   ]
  },
  {
   "cell_type": "markdown",
   "id": "333d427d-0f01-40a8-bd4e-475602f85c51",
   "metadata": {},
   "source": [
    "### Access matrix elements, rows and columns"
   ]
  },
  {
   "cell_type": "code",
   "execution_count": 7,
   "id": "2f1547c3-5488-48da-9ecd-6ac15911f512",
   "metadata": {},
   "outputs": [
    {
     "name": "stdout",
     "output_type": "stream",
     "text": [
      "A[0] = 2\n",
      "A[2] = 6\n",
      "A[-1] = 10\n"
     ]
    }
   ],
   "source": [
    "A = np.array([2, 4, 6, 8, 10])\n",
    "\n",
    "print(\"A[0] =\", A[0])     # First element     \n",
    "print(\"A[2] =\", A[2])     # Third element \n",
    "print(\"A[-1] =\", A[-1])   # Last element "
   ]
  },
  {
   "cell_type": "code",
   "execution_count": 8,
   "id": "74ca2ffb-13c4-4496-aeb5-9ec01945745f",
   "metadata": {},
   "outputs": [
    {
     "name": "stdout",
     "output_type": "stream",
     "text": [
      "A[0] = [ 1  4  5 12]\n",
      "A[2] = [-6  7 11 19]\n",
      "A[-1] = [-6  7 11 19]\n"
     ]
    }
   ],
   "source": [
    "A = np.array([[1, 4, 5, 12], \n",
    "    [-5, 8, 9, 0],\n",
    "    [-6, 7, 11, 19]])\n",
    "\n",
    "print(\"A[0] =\", A[0]) # First Row\n",
    "print(\"A[2] =\", A[2]) # Third Row\n",
    "print(\"A[-1] =\", A[-1]) # Last Row (3rd row in this case)"
   ]
  },
  {
   "cell_type": "code",
   "execution_count": 9,
   "id": "dd6e8d94-855e-4ff3-b095-e9235492dbc0",
   "metadata": {},
   "outputs": [
    {
     "name": "stdout",
     "output_type": "stream",
     "text": [
      "A[:,0] = [ 1 -5 -6]\n",
      "A[:,3] = [12  0 19]\n",
      "A[:,-1] = [12  0 19]\n"
     ]
    }
   ],
   "source": [
    "A = np.array([[1, 4, 5, 12], \n",
    "    [-5, 8, 9, 0],\n",
    "    [-6, 7, 11, 19]])\n",
    "\n",
    "print(\"A[:,0] =\",A[:,0]) # First Column\n",
    "print(\"A[:,3] =\", A[:,3]) # Fourth Column\n",
    "print(\"A[:,-1] =\", A[:,-1]) # Last Column (4th column in this case)"
   ]
  },
  {
   "cell_type": "code",
   "execution_count": 11,
   "id": "ab0d153a-2c8c-4c85-9377-83ea2520c22e",
   "metadata": {},
   "outputs": [
    {
     "name": "stdout",
     "output_type": "stream",
     "text": [
      "[[ 1  4  5 12]\n",
      " [-5  8  9  0]]\n"
     ]
    }
   ],
   "source": [
    "# Slicing of a Matrix\n",
    "A = np.array([[1, 4, 5, 12, 14], \n",
    "    [-5, 8, 9, 0, 17],\n",
    "    [-6, 7, 11, 19, 21]])\n",
    "\n",
    "print(A[:2, :4])  # two rows, four columns"
   ]
  },
  {
   "cell_type": "markdown",
   "id": "248f725e-b9c2-46c5-a4a8-37cd8147bfa6",
   "metadata": {},
   "source": [
    "### Matrix Multiplication"
   ]
  },
  {
   "cell_type": "code",
   "execution_count": 13,
   "id": "1d2c6b9f-2e84-41b2-9446-71886011e067",
   "metadata": {},
   "outputs": [
    {
     "data": {
      "text/plain": [
       "array([[ 3,  8],\n",
       "       [ 4, 12]])"
      ]
     },
     "execution_count": 13,
     "metadata": {},
     "output_type": "execute_result"
    }
   ],
   "source": [
    "A = np.array([\n",
    "    [1,2],\n",
    "    [2,3]\n",
    "])\n",
    "B = np.array([\n",
    "    [-1,0],\n",
    "    [2,4]\n",
    "])\n",
    "np.matmul(A,B)"
   ]
  },
  {
   "cell_type": "code",
   "execution_count": 15,
   "id": "ee95ec31-bf73-42ea-8715-b06c14cba4c6",
   "metadata": {},
   "outputs": [
    {
     "data": {
      "text/plain": [
       "array([[-1,  0],\n",
       "       [ 4, 12]])"
      ]
     },
     "execution_count": 15,
     "metadata": {},
     "output_type": "execute_result"
    }
   ],
   "source": [
    "A*B # note that this is not matrix multiplication"
   ]
  },
  {
   "cell_type": "code",
   "execution_count": 17,
   "id": "10811fdc-9c3b-41b7-8908-057a18abf92d",
   "metadata": {},
   "outputs": [
    {
     "data": {
      "text/plain": [
       "array([[ 3,  8],\n",
       "       [ 4, 12]])"
      ]
     },
     "execution_count": 17,
     "metadata": {},
     "output_type": "execute_result"
    }
   ],
   "source": [
    "A.dot(B) # however, this is also matrix multiplication, as Dr. Sethu has noted in his lecture"
   ]
  },
  {
   "cell_type": "markdown",
   "id": "26d00b29-7e33-438f-989c-775ff6037316",
   "metadata": {},
   "source": [
    "### Eigenvalue & Eigenvectors"
   ]
  },
  {
   "cell_type": "code",
   "execution_count": 61,
   "id": "f3006ae4-915f-4815-b68f-fea6670e4b70",
   "metadata": {},
   "outputs": [],
   "source": [
    "from numpy import linalg as la # note that now we have imported the module"
   ]
  },
  {
   "cell_type": "code",
   "execution_count": 65,
   "id": "6258cd3e-606e-4f6f-af40-30f435ec888d",
   "metadata": {},
   "outputs": [
    {
     "name": "stdout",
     "output_type": "stream",
     "text": [
      "Eigenvalues: [0.29843788 6.70156212]\n",
      "Eigenvectors: [[-0.98496508 -0.57432028]\n",
      " [ 0.17275355 -0.81863069]]\n"
     ]
    }
   ],
   "source": [
    "w, v = la.eig(A)\n",
    "print(\"Eigenvalues:\", w)\n",
    "print(\"Eigenvectors:\", v)"
   ]
  },
  {
   "cell_type": "markdown",
   "id": "02d55296-0673-4d9a-b4c7-444239b694da",
   "metadata": {},
   "source": [
    "__Remark:__ Be careful about round-off error!"
   ]
  },
  {
   "cell_type": "markdown",
   "id": "ee4fd980-941f-4fbe-bd34-2738404dda4f",
   "metadata": {},
   "source": [
    "If the matrix is symmetrix, you can also use an usefull function `linalg.eigh` (h means Hermitian, which is a complex symmetrix matrix)"
   ]
  },
  {
   "cell_type": "code",
   "execution_count": 68,
   "id": "fd6bc694-5ca1-4092-ac7c-67e8a0eb5fe3",
   "metadata": {},
   "outputs": [
    {
     "data": {
      "text/plain": [
       "array([[ 2,  5],\n",
       "       [ 5, 12]])"
      ]
     },
     "execution_count": 68,
     "metadata": {},
     "output_type": "execute_result"
    }
   ],
   "source": [
    "S = A + A.transpose() # just generating a symmetric matrix\n",
    "S"
   ]
  },
  {
   "cell_type": "code",
   "execution_count": 69,
   "id": "e8308934-217a-4455-a289-79b3fa434453",
   "metadata": {},
   "outputs": [
    {
     "name": "stdout",
     "output_type": "stream",
     "text": [
      "Eigenvalues: [-0.07106781 14.07106781]\n",
      "Eigenvectors: [[-0.92387953  0.38268343]\n",
      " [ 0.38268343  0.92387953]]\n"
     ]
    }
   ],
   "source": [
    "w, v = la.eigh(S)\n",
    "print(\"Eigenvalues:\", w)\n",
    "print(\"Eigenvectors:\", v)"
   ]
  },
  {
   "cell_type": "code",
   "execution_count": 70,
   "id": "149eca48-2961-4e4a-ae08-b5f280f00380",
   "metadata": {},
   "outputs": [
    {
     "data": {
      "text/plain": [
       "7.3484692283495345"
      ]
     },
     "execution_count": 70,
     "metadata": {},
     "output_type": "execute_result"
    }
   ],
   "source": [
    "la.norm(A) # sometimes you will need it in future"
   ]
  }
 ],
 "metadata": {
  "kernelspec": {
   "display_name": "Python 3",
   "language": "python",
   "name": "python3"
  },
  "language_info": {
   "codemirror_mode": {
    "name": "ipython",
    "version": 3
   },
   "file_extension": ".py",
   "mimetype": "text/x-python",
   "name": "python",
   "nbconvert_exporter": "python",
   "pygments_lexer": "ipython3",
   "version": "3.7.3"
  }
 },
 "nbformat": 4,
 "nbformat_minor": 5
}
